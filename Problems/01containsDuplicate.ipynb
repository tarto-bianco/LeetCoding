{
 "cells": [
  {
   "cell_type": "markdown",
   "id": "e9bbcf1b",
   "metadata": {},
   "source": [
    "Contains Duplicate(Easy)"
   ]
  },
  {
   "cell_type": "markdown",
   "id": "f89835c6",
   "metadata": {},
   "source": [
    "Psuedocode:\n",
    "1. for each index in the array \n",
    "2. traverse the length of the array to see if there is a value equivalent to that index "
   ]
  },
  {
   "cell_type": "code",
   "execution_count": null,
   "id": "f071dd9f",
   "metadata": {},
   "outputs": [],
   "source": [
    "from typing import List\n",
    "\n",
    "class Solution:\n",
    "    def hasDuplicate(self, nums: List[int]) -> bool:\n",
    "        for i in range(len(nums)): \n",
    "            for j in range(i + 1, len(nums)):\n",
    "                if nums[i] == nums[j]:\n",
    "                    return True\n",
    "        return False"
   ]
  }
 ],
 "metadata": {
  "kernelspec": {
   "display_name": "venv",
   "language": "python",
   "name": "python3"
  },
  "language_info": {
   "codemirror_mode": {
    "name": "ipython",
    "version": 3
   },
   "file_extension": ".py",
   "mimetype": "text/x-python",
   "name": "python",
   "nbconvert_exporter": "python",
   "pygments_lexer": "ipython3",
   "version": "3.13.2"
  }
 },
 "nbformat": 4,
 "nbformat_minor": 5
}
