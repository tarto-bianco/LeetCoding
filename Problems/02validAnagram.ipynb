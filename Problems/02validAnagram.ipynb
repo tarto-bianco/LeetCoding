{
 "cells": [
  {
   "cell_type": "markdown",
   "id": "0c6f372c",
   "metadata": {},
   "source": [
    "Valid Anagram(easy)"
   ]
  },
  {
   "cell_type": "markdown",
   "id": "e84880cb",
   "metadata": {},
   "source": [
    " psuedocode:\n",
    "1. Take characters from string s and store items in array1 and keep a counter for size \n",
    "2. Take characters from string t and store items in array2 and keep a counter for size \n",
    "3. If counters dont equal return false \n",
    "4. Traverse first array until we find index[0]'s item in the second array and repeat for all items in the length of the array \n",
    "5. if item is not found return false \n",
    "6. Create a new array with remaining items in array1, and array2 and remove index[0] and index that equals the value of index[0]\n",
    "7. repeat for rest of indexes in array1 \n",
    "8. If the arrays both return empty at the end of the traversal return true "
   ]
  },
  {
   "cell_type": "code",
   "execution_count": 1,
   "id": "53ff578a",
   "metadata": {},
   "outputs": [],
   "source": [
    "class Solution:\n",
    "    def isAnagram(self, s: str, t: str) -> bool:\n",
    "        array1 = list(s)\n",
    "        array2 = list(t)\n",
    "\n",
    "        if len(array1) != len(array2):\n",
    "            return False\n",
    "        \n",
    "        for char in array1:\n",
    "            if char in array2:\n",
    "                array2.remove(char)\n",
    "            else: \n",
    "                return False\n",
    "            \n",
    "        return len(array2) == 0"
   ]
  }
 ],
 "metadata": {
  "kernelspec": {
   "display_name": "venv",
   "language": "python",
   "name": "python3"
  },
  "language_info": {
   "codemirror_mode": {
    "name": "ipython",
    "version": 3
   },
   "file_extension": ".py",
   "mimetype": "text/x-python",
   "name": "python",
   "nbconvert_exporter": "python",
   "pygments_lexer": "ipython3",
   "version": "3.13.2"
  }
 },
 "nbformat": 4,
 "nbformat_minor": 5
}
