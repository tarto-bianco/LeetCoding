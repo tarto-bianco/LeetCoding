{
 "cells": [
  {
   "cell_type": "markdown",
   "id": "6cb6e414",
   "metadata": {},
   "source": [
    "Two Sum(Easy)"
   ]
  },
  {
   "cell_type": "markdown",
   "id": "61f44839",
   "metadata": {},
   "source": [
    "Psuedocode\n",
    "\n",
    "1. Take array nums first index int\n",
    "2. Store the index location in a variable1\n",
    "3. Traverse the array to add the item indexes value \n",
    "4. if the value does not equal our target move onto the next index until full array is traversed\n",
    "5. Remove the index from the array, repeat steps 2 to 4 \n",
    "6. if the summed value does equal our target take the second index location and store in another variable2\n",
    "7. return variable 1 and variable 2 in a list "
   ]
  },
  {
   "cell_type": "code",
   "execution_count": null,
   "id": "d8262f3b",
   "metadata": {},
   "outputs": [],
   "source": [
    "from typing import List\n",
    "\n",
    "class Solution:\n",
    "    def twoSum(self, nums: List[int], target: int) -> List[int]:\n",
    "        for i in range(len(nums)):                          \n",
    "            variable1 = i                                   \n",
    "            for j in range(i + 1, len(nums)):               \n",
    "                if nums[variable1] + nums[j] == target:     \n",
    "                    variable2 = j                           \n",
    "                    return [variable1, variable2]           \n"
   ]
  }
 ],
 "metadata": {
  "kernelspec": {
   "display_name": "venv",
   "language": "python",
   "name": "python3"
  },
  "language_info": {
   "codemirror_mode": {
    "name": "ipython",
    "version": 3
   },
   "file_extension": ".py",
   "mimetype": "text/x-python",
   "name": "python",
   "nbconvert_exporter": "python",
   "pygments_lexer": "ipython3",
   "version": "3.13.2"
  }
 },
 "nbformat": 4,
 "nbformat_minor": 5
}
