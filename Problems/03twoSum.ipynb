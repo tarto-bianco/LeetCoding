{
 "cells": [
  {
   "cell_type": "code",
   "execution_count": null,
   "id": "0b4412e4",
   "metadata": {},
   "outputs": [],
   "source": [
    "Two Sum(Easy)"
   ]
  },
  {
   "cell_type": "code",
   "execution_count": null,
   "id": "e025f0bf",
   "metadata": {},
   "outputs": [],
   "source": [
    "Psuedocode \n",
    "1. take "
   ]
  },
  {
   "cell_type": "code",
   "execution_count": null,
   "id": "d8262f3b",
   "metadata": {},
   "outputs": [
    {
     "ename": "",
     "evalue": "",
     "output_type": "error",
     "traceback": [
      "\u001b[1;31mRunning cells with 'Python 3.13.2' requires the ipykernel package.\n",
      "\u001b[1;31m<a href='command:jupyter.createPythonEnvAndSelectController'>Create a Python Environment</a> with the required packages.\n",
      "\u001b[1;31mOr install 'ipykernel' using the command: '/opt/homebrew/bin/python3 -m pip install ipykernel -U --user --force-reinstall'"
     ]
    }
   ],
   "source": [
    "class Solution:\n",
    "    def twoSum(self, nums: List[int], target: int) -> List[int]:"
   ]
  }
 ],
 "metadata": {
  "kernelspec": {
   "display_name": "Python 3",
   "language": "python",
   "name": "python3"
  },
  "language_info": {
   "codemirror_mode": {
    "name": "ipython",
    "version": 3
   },
   "file_extension": ".py",
   "mimetype": "text/x-python",
   "name": "python",
   "nbconvert_exporter": "python",
   "pygments_lexer": "ipython3",
   "version": "3.13.2"
  }
 },
 "nbformat": 4,
 "nbformat_minor": 5
}
